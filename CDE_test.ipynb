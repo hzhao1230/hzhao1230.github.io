{
 "cells": [
  {
   "cell_type": "code",
   "execution_count": 1,
   "metadata": {
    "collapsed": true
   },
   "outputs": [],
   "source": [
    "from chemdataextractor import Document"
   ]
  },
  {
   "cell_type": "code",
   "execution_count": 2,
   "metadata": {
    "collapsed": false
   },
   "outputs": [
    {
     "data": {
      "text/plain": [
       "[Span(u'THF', 82, 85),\n",
       " Span(u'5,10,15,20-Tetra(4-carboxyphenyl)porphyrin', 19, 61),\n",
       " Span(u'Tetrahydrofuran', 65, 80)]"
      ]
     },
     "execution_count": 2,
     "metadata": {},
     "output_type": "execute_result"
    }
   ],
   "source": [
    "doc = Document('UV-vis spectrum of 5,10,15,20-Tetra(4-carboxyphenyl)porphyrin in Tetrahydrofuran (THF).')\n",
    "doc.cems"
   ]
  },
  {
   "cell_type": "code",
   "execution_count": 27,
   "metadata": {
    "collapsed": false
   },
   "outputs": [],
   "source": [
    "f1 = open('html/test_nature.html', 'rb')\n",
    "f2 = open('html/test_rsc.html', 'rb')\n",
    "doc1 = Document.from_file(f1)\n",
    "doc2 = Document.from_file(f2)"
   ]
  },
  {
   "cell_type": "code",
   "execution_count": 36,
   "metadata": {
    "collapsed": false
   },
   "outputs": [
    {
     "name": "stdout",
     "output_type": "stream",
     "text": [
      "Polymer-based composites were heralded in the 1960s as a new paradigm for materials. By dispersing strong, highly stiff fibres in a polymer matrix, high-performance lightweight composites could be developed and tailored to individual applications1. Today we stand at a similar threshold in the realm of polymer nanocomposites with the promise of strong, durable, multifunctional materials with low nanofiller content2, 3, 4, 5, 6, 7, 8, 9, 10, 11. However, the cost of nanoparticles, their availability and the challenges that remain to achieve good dispersion pose significant obstacles to these goals. Here, we report the creation of polymer nanocomposites with functionalized graphene sheets, which overcome these obstacles and provide superb polymer–particle interactions. An unprecedented shift in glass transition temperature of over 40 °C is obtained for poly(acrylonitrile) at 1 wt% functionalized graphene sheet, and with only 0.05 wt% functionalized graphene sheet in poly(methyl methacrylate) there is an improvement of nearly 30 °C. Modulus, ultimate strength and thermal stability follow a similar trend, with values for functionalized graphene sheet– poly(methyl methacrylate) rivaling those for single-walled carbon nanotube–poly(methyl methacrylate) composites.\n"
     ]
    }
   ],
   "source": [
    "para1 = doc1.elements[23]  # nature\n",
    "para2 = doc2.elements[8] # rsc\n",
    "print para1"
   ]
  },
  {
   "cell_type": "code",
   "execution_count": 45,
   "metadata": {
    "collapsed": false
   },
   "outputs": [],
   "source": [
    "# para1.tokens"
   ]
  },
  {
   "cell_type": "code",
   "execution_count": 69,
   "metadata": {
    "collapsed": false
   },
   "outputs": [
    {
     "data": {
      "text/plain": [
       "[{u'names': [u'poly(acrylonitrile)']},\n",
       " {u'names': [u'graphene']},\n",
       " {u'names': [u'poly(methyl methacrylate )']}]"
      ]
     },
     "execution_count": 69,
     "metadata": {},
     "output_type": "execute_result"
    }
   ],
   "source": [
    "s1 = para1.sentences[-2]\n",
    "# print s1\n",
    "# s1.records.serialize()"
   ]
  },
  {
   "cell_type": "code",
   "execution_count": 66,
   "metadata": {
    "collapsed": false
   },
   "outputs": [
    {
     "name": "stdout",
     "output_type": "stream",
     "text": [
      "(u'PMMA', 52)\n",
      "(u'graphene', 23)\n",
      "(u'graphite', 20)\n",
      "(u'carbon', 19)\n",
      "(u'PAN', 7)\n",
      "(u'PAA', 7)\n",
      "(u'H', 5)\n",
      "(u'poly(methyl methacrylate)', 5)\n",
      "(u'epoxy', 4)\n",
      "(u'THF', 4)\n"
     ]
    }
   ],
   "source": [
    "# s1.pos_tagged_tokens\n",
    "# para1.cems\n",
    "# doc1.cems\n",
    "dict_cems = dict()\n",
    "for word in doc1.cems:\n",
    "    if word.text not in dict_cems:\n",
    "        dict_cems[word.text] = 1\n",
    "    else:\n",
    "        dict_cems[word.text] += 1\n",
    "\n",
    "import operator\n",
    "sorted_dict_cems = sorted(dict_cems.items(), key=operator.itemgetter(1))\n",
    "for i in sorted_dict_cems[-10:][::-1]:\n",
    "    print i\n"
   ]
  },
  {
   "cell_type": "code",
   "execution_count": 67,
   "metadata": {
    "collapsed": false
   },
   "outputs": [
    {
     "data": {
      "text/plain": [
       "[([u'SWNTs'], [u'single', u'-', u'walled', u'carbon', u'nanotubes'], None),\n",
       " ([u'ARG'], [u'as-received', u'graphite'], None),\n",
       " ([u'GNPs'], [u'graphitic', u'nanoplatelets'], None),\n",
       " ([u'PMMA'], [u'poly(methyl', u'methacrylate', u')'], u'CM'),\n",
       " ([u'AFM'], [u'Atomic', u'force', u'microscopy'], None),\n",
       " ([u'DMF'], [u'dimethylformamide'], u'CM'),\n",
       " ([u'THF'], [u'tetrahydrofuran'], u'CM'),\n",
       " ([u'PAN'], [u'poly(acrylonitrile)'], u'CM'),\n",
       " ([u'PAA'], [u'poly(acrylic', u'acid', u')'], u'CM'),\n",
       " ([u'PDI'], [u'polydispersity', u'index'], None),\n",
       " ([u'AFM'], [u'Atomic', u'force', u'microscopy'], None),\n",
       " ([u'HOPG'], [u'highly', u'oriented', u'pyrolytic', u'graphite'], None),\n",
       " ([u'BIMat'], [u'BioInspired', u'Materials'], None),\n",
       " ([u'PDOX'],\n",
       "  [u'patient', u'-', u'derived', u'orthotopic', u'xenograft'],\n",
       "  None)]"
      ]
     },
     "execution_count": 67,
     "metadata": {},
     "output_type": "execute_result"
    }
   ],
   "source": [
    "doc1.abbreviation_definitions"
   ]
  },
  {
   "cell_type": "code",
   "execution_count": 68,
   "metadata": {
    "collapsed": false
   },
   "outputs": [
    {
     "data": {
      "text/plain": [
       "[([u'PMC'], [u'polymer', u'\\u2013', u'matrix', u'composite'], None),\n",
       " ([u'P(VDF-HFP)'],\n",
       "  [u'poly(vinylidene', u'fluoride-co-hexafluoropropylene', u')'],\n",
       "  u'CM'),\n",
       " ([u'CNTs'], [u'carbon', u'nanotubes'], None),\n",
       " ([u'TRGO'], [u'thermally', u'reduced', u'graphene', u'oxide'], None),\n",
       " ([u'fRGO'], [u'functionalized', u'RGO'], None),\n",
       " ([u'DMF'], [u'N,N-dimethylformamide'], u'CM'),\n",
       " ([u'XPS'], [u'X-ray', u'photoelectron', u'spectroscopy'], None),\n",
       " ([u'AFM'], [u'Atom', u'force', u'microscopy'], None),\n",
       " ([u'SEM'], [u'Scanning', u'electron', u'microscopy'], None),\n",
       " ([u'DMF'], [u'N,N-dimethylformamide'], u'CM'),\n",
       " ([u'RGO'], [u'reduced', u'GO'], None),\n",
       " ([u'fRGO'], [u'functionalized', u'RGO'], None),\n",
       " ([u'fRGO'], [u'functionalized', u'RGO'], None),\n",
       " ([u'ffRGO'], [u'fraction', u'of', u'the', u'fRGO', u'nanosheets'], None),\n",
       " ([u'MWS'], [u'Maxwell', u'\\u2013', u'Wagner', u'\\u2013', u'Sillars'], None)]"
      ]
     },
     "execution_count": 68,
     "metadata": {},
     "output_type": "execute_result"
    }
   ],
   "source": [
    "doc2.abbreviation_definitions"
   ]
  },
  {
   "cell_type": "code",
   "execution_count": 98,
   "metadata": {
    "collapsed": false
   },
   "outputs": [
    {
     "name": "stdout",
     "output_type": "stream",
     "text": [
      "\n",
      "An emeraldine base form of polyaniline was synthesized by the oxidative coupling of aniline as reported previously. Typically, aniline (9.3 g) was dissolved in 1 M HCl (100 mL) and ammonium persulfate (28.6 g) was dissolved in 80 mL de-ionized water. After both solutions were cooled to 0 °C in an ice bath, they were mixed and allowed to react at 0 °C for 12 h with stirring. The green precipitate was collected by filtration and washed excessively with de-ionized water. Then the obtained product was dried under vacuum at 50 °C overnight. The emeraldine base form of polyaniline was dissolved in N,N-dimethylformamide (DMF) at a concentration of 10 mg mL−1 by stirring the solution overnight and then was sonicated for 12 h. The solution was then filtered through filter paper to remove the undissolved polyaniline particles. The resultant solution was left for another 24 h in an ultrasonic bath to ensure the complete dissolution of polyaniline in DMF. Meanwhile, graphite oxide was exfoliated through ultrasonication to form a DMF dispersion of graphene oxide (GO) with a concentration of 1 mg mL−1. To prepare fRGO, 50 mL of the polyaniline dispersion was mixed with 50 mL of the GO dispersion. After 1 mL of hydrazine was added to the mixture, it was heated at 90 °C for 4 h with vigorous stirring. The mixture was then filtered with a 0.8 μm nylon membrane and washed excessively with DMF. The obtained fRGO nanosheets were redispersed into DMF through ultrasonication prior to use. A control experiment of hydrazine reduction of GO was also performed without the presence of polyaniline. After reduction, the monolayer RGO nanosheets restacked together and precipitated from DMF.\n",
      " <class 'chemdataextractor.doc.text.Paragraph'>\n"
     ]
    },
    {
     "data": {
      "text/plain": [
       "[{u'names': [u'aniline']},\n",
       " {u'names': [u'HCl']},\n",
       " {u'names': [u'ammonium persulfate']}]"
      ]
     },
     "execution_count": 98,
     "metadata": {},
     "output_type": "execute_result"
    }
   ],
   "source": [
    "import chemdataextractor\n",
    "for i in doc2.elements:\n",
    "    if type(i) == chemdataextractor.doc.text.Paragraph:\n",
    "        if i.text[:14] == '\\nAn emeraldine':\n",
    "            para_expt = i\n",
    "print para_expt, type(para_expt)\n",
    "para_expt[1].records.serialize()"
   ]
  },
  {
   "cell_type": "code",
   "execution_count": 99,
   "metadata": {
    "collapsed": false
   },
   "outputs": [],
   "source": [
    "# doc2.elements"
   ]
  }
 ],
 "metadata": {
  "anaconda-cloud": {},
  "kernelspec": {
   "display_name": "Python [Root]",
   "language": "python",
   "name": "Python [Root]"
  },
  "language_info": {
   "codemirror_mode": {
    "name": "ipython",
    "version": 2
   },
   "file_extension": ".py",
   "mimetype": "text/x-python",
   "name": "python",
   "nbconvert_exporter": "python",
   "pygments_lexer": "ipython2",
   "version": "2.7.12"
  }
 },
 "nbformat": 4,
 "nbformat_minor": 0
}
